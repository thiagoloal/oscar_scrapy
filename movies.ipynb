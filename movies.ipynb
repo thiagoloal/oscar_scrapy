{
 "cells": [
  {
   "cell_type": "markdown",
   "metadata": {},
   "source": [
    "# Pegando informações dos filmes online\n",
    "\n",
    "Para conseguir identificar as categorias, diretores e outras informações dos filmes é necessario a utilização de **API's**, para cruzar informações tornar o banco de dados mais confiável.\n",
    "\n",
    "Usando o **movies_local.csv**, que foi extraido do [Academy Awards Database](http://awardsdatabase.oscars.org/) usando o notebook [scrappy_oscar](./scrapy_oscar.ipynb), com todos os filmes que ja concorreram em alguma categoria o notebook irá buscar respectivamenta as informações dentro da api do TMDB, IMDB *(usando imdbpie)* e Metascore"
   ]
  },
  {
   "cell_type": "markdown",
   "metadata": {},
   "source": [
    "### 1 - Modelando os dados para a manipulação \n",
    "\n",
    "Setando o index do DataFrame como **movie**, organizando por número de vitórias, nomeando as colunas e convertendo o tipo das indicações dos anos em inteiros \n"
   ]
  },
  {
   "cell_type": "code",
   "execution_count": 1,
   "metadata": {
    "collapsed": true
   },
   "outputs": [],
   "source": [
    "import pandas as pd\n",
    "import numpy as np\n",
    "\n",
    "#import csv from database\n",
    "movies = pd.read_csv('./database/movies_local.csv')\n",
    "movies = movies.sort_values('win', ascending=False)\n",
    "movies = movies.set_index('movie')\n",
    "\n",
    "#rename all columns\n",
    "movies.columns = ['indication_year', 'number_indications', 'victories']"
   ]
  },
  {
   "cell_type": "code",
   "execution_count": 2,
   "metadata": {},
   "outputs": [
    {
     "name": "stdout",
     "output_type": "stream",
     "text": [
      "Movies tem 4770 itens\n"
     ]
    }
   ],
   "source": [
    "#convet year into numbers\n",
    "movies['indication_year'] = movies['indication_year'].astype(int)\n",
    "\n",
    "print('Movies tem '+str(len(movies)) +' itens')"
   ]
  },
  {
   "cell_type": "markdown",
   "metadata": {},
   "source": [
    "### 1.1 - Porcentagem de vitórias\n",
    "\n",
    "Gerando a coluna *percentage_victories* que calcula a porcentagem de vitórias de cada filme com todas as suas participações no Oscar"
   ]
  },
  {
   "cell_type": "code",
   "execution_count": 3,
   "metadata": {
    "collapsed": true
   },
   "outputs": [],
   "source": [
    "def percentage_victories(indications, victories):\n",
    "    return (victories * 100) / indications\n",
    "movies['percentage_victories'] = np.vectorize(percentage_victories)(movies['number_indications'], movies['victories'])"
   ]
  },
  {
   "cell_type": "markdown",
   "metadata": {},
   "source": [
    "### 2 - TMDB API: TMDB_ID PT1\n",
    "\n",
    "Parte do script reponsavel por mandar request para pesquisar no banco de dados da [Api do TMDB](https://developers.themoviedb.org/3) pelo nome do filme e que tenha sido lançado um ano antes da edição do oscar que concorreu"
   ]
  },
  {
   "cell_type": "code",
   "execution_count": 4,
   "metadata": {
    "collapsed": true
   },
   "outputs": [],
   "source": [
    "import requests\n",
    "import json\n",
    "\n",
    "#KEY from TMDB API\n",
    "api_key = 'aa043c2ae33192f63fcc150bb97816b7'\n",
    "\n",
    "\n",
    "def find_movie_tmdb(mv, yr):\n",
    "    \"\"\" Função para procurar o filme no TMDB\"\"\"\n",
    "    \n",
    "    url = \"https://api.themoviedb.org/3/search/movie?api_key=\"+api_key+\"&language=en-US&query=\"+mv\n",
    "    url += \"&primary_release_year=\"+str(yr-1)\n",
    "    payload = \"{}\"\n",
    "\n",
    "    response = requests.request(\"GET\", url, data=payload)\n",
    "    data = json.loads(response.text)\n",
    "    if response.status_code == 200:\n",
    "        if len(data['results']) == 1:\n",
    "            #se existir apnas um resultado retorna o id\n",
    "            return  data['results'][0]['id']\n",
    "\n",
    "        elif data['results'] and data['total_results'] > 1:\n",
    "            #se existir mais de um resultado\n",
    "\n",
    "            #array para guadar filmes com nome identico\n",
    "            exact_name = []\n",
    "\n",
    "            #loop para identificar os filmes com o nome identico ao procurado\n",
    "            for mvs in data['results']:\n",
    "                if mvs['title'] == mv:\n",
    "                    exact_name.append(mvs)\n",
    "\n",
    "            #retorna o id se o exact_name for igual 1 se não retorna False\n",
    "            if len(exact_name) == 1:\n",
    "                return  exact_name[0]['id']\n",
    "            elif len(exact_name) > 1:\n",
    "                return  False\n",
    "\n",
    "            return  False\n",
    "   \n",
    "    return  False"
   ]
  },
  {
   "cell_type": "markdown",
   "metadata": {},
   "source": [
    "Por se tratar de uma grande quantidade de informações foi necessario dividir os filmes em 159 partes, para que a função fosse executada mais rápida"
   ]
  },
  {
   "cell_type": "code",
   "execution_count": 5,
   "metadata": {
    "collapsed": true,
    "scrolled": true
   },
   "outputs": [],
   "source": [
    "#tmp_movies cria um array de DataFrames com filmes divididos para executar a função\n",
    "tmp_movies = []\n",
    "\n",
    "#loop para dividir dataframe movies\n",
    "for x in range(1,160):\n",
    "    tmp_movies.append(movies.iloc[int(len(movies.index.values)/159)*(x-1):int(len(movies.index.values)/159)*x,:].copy())"
   ]
  },
  {
   "cell_type": "code",
   "execution_count": 6,
   "metadata": {},
   "outputs": [
    {
     "name": "stdout",
     "output_type": "stream",
     "text": [
      "0 | ==================================================\n",
      "1 | ==================================================\n",
      "2 | ==================================================\n",
      "3 | ==================================================\n",
      "4 | ==================================================\n",
      "5 | ==================================================\n",
      "6 | ==================================================\n",
      "7 | ==================================================\n",
      "8 | ==================================================\n",
      "9 | ==================================================\n",
      "10 | ==================================================\n",
      "11 | ==================================================\n",
      "12 | ==================================================\n",
      "13 | ==================================================\n",
      "14 | ==================================================\n",
      "15 | ==================================================\n",
      "16 | ==================================================\n",
      "17 | ==================================================\n",
      "18 | ==================================================\n",
      "19 | ==================================================\n",
      "20 | ==================================================\n",
      "21 | ==================================================\n",
      "22 | ==================================================\n",
      "23 | ==================================================\n",
      "24 | ==================================================\n",
      "25 | ==================================================\n",
      "26 | ==================================================\n",
      "27 | ==================================================\n",
      "28 | ==================================================\n",
      "29 | ==================================================\n",
      "30 | ==================================================\n",
      "31 | ==================================================\n",
      "32 | ==================================================\n",
      "33 | ==================================================\n",
      "34 | ==================================================\n",
      "35 | ==================================================\n",
      "36 | ==================================================\n",
      "37 | ==================================================\n",
      "38 | ==================================================\n",
      "39 | ==================================================\n",
      "40 | ==================================================\n",
      "41 | ==================================================\n",
      "42 | ==================================================\n",
      "43 | ==================================================\n",
      "44 | ==================================================\n",
      "45 | ==================================================\n",
      "46 | ==================================================\n",
      "47 | ==================================================\n",
      "48 | ==================================================\n",
      "49 | ==================================================\n",
      "50 | ==================================================\n",
      "51 | ==================================================\n",
      "52 | ==================================================\n",
      "53 | ==================================================\n",
      "54 | ==================================================\n",
      "55 | ==================================================\n",
      "56 | ==================================================\n",
      "57 | ==================================================\n",
      "58 | ==================================================\n",
      "59 | ==================================================\n",
      "60 | ==================================================\n",
      "61 | ==================================================\n",
      "62 | ==================================================\n",
      "63 | ==================================================\n",
      "64 | ==================================================\n",
      "65 | ==================================================\n",
      "66 | ==================================================\n",
      "67 | ==================================================\n",
      "68 | ==================================================\n",
      "69 | ==================================================\n",
      "70 | ==================================================\n",
      "71 | ==================================================\n",
      "72 | ==================================================\n",
      "73 | ==================================================\n",
      "74 | ==================================================\n",
      "75 | ==================================================\n",
      "76 | ==================================================\n",
      "77 | ==================================================\n",
      "78 | ==================================================\n",
      "79 | ==================================================\n",
      "80 | ==================================================\n",
      "81 | ==================================================\n",
      "82 | ==================================================\n",
      "83 | ==================================================\n",
      "84 | ==================================================\n",
      "85 | ==================================================\n",
      "86 | ==================================================\n",
      "87 | ==================================================\n",
      "88 | ==================================================\n",
      "89 | ==================================================\n",
      "90 | ==================================================\n",
      "91 | ==================================================\n",
      "92 | ==================================================\n",
      "93 | ==================================================\n",
      "94 | ==================================================\n",
      "95 | ==================================================\n",
      "96 | ==================================================\n",
      "97 | ==================================================\n",
      "98 | ==================================================\n",
      "99 | ==================================================\n",
      "100 | ==================================================\n",
      "101 | ==================================================\n",
      "102 | ==================================================\n",
      "103 | ==================================================\n",
      "104 | ==================================================\n",
      "105 | ==================================================\n",
      "106 | ==================================================\n",
      "107 | ==================================================\n",
      "108 | ==================================================\n",
      "109 | ==================================================\n",
      "110 | ==================================================\n",
      "111 | ==================================================\n",
      "112 | ==================================================\n",
      "113 | ==================================================\n",
      "114 | ==================================================\n",
      "115 | ==================================================\n",
      "116 | ==================================================\n",
      "117 | ==================================================\n",
      "118 | ==================================================\n",
      "119 | ==================================================\n",
      "120 | ==================================================\n",
      "121 | ==================================================\n",
      "122 | ==================================================\n",
      "123 | ==================================================\n",
      "124 | ==================================================\n",
      "125 | ==================================================\n",
      "126 | ==================================================\n",
      "127 | ==================================================\n",
      "128 | ==================================================\n",
      "129 | ==================================================\n",
      "130 | ==================================================\n",
      "131 | ==================================================\n",
      "132 | ==================================================\n",
      "133 | ==================================================\n",
      "134 | ==================================================\n",
      "135 | ==================================================\n",
      "136 | ==================================================\n",
      "137 | ==================================================\n",
      "138 | ==================================================\n",
      "139 | ==================================================\n",
      "140 | ==================================================\n",
      "141 | ==================================================\n",
      "142 | ==================================================\n",
      "143 | ==================================================\n",
      "144 | ==================================================\n",
      "145 | ==================================================\n"
     ]
    },
    {
     "name": "stdout",
     "output_type": "stream",
     "text": [
      "146 | ==================================================\n",
      "147 | ==================================================\n",
      "148 | ==================================================\n",
      "149 | ==================================================\n",
      "150 | ==================================================\n",
      "151 | ==================================================\n",
      "152 | ==================================================\n",
      "153 | ==================================================\n",
      "154 | ==================================================\n",
      "155 | ==================================================\n",
      "156 | ==================================================\n",
      "157 | ==================================================\n",
      "158 | ==================================================\n"
     ]
    }
   ],
   "source": [
    "#loop para executar a função find_movie_tmdb e guardar no tmdb_id\n",
    "for idx, df in enumerate(tmp_movies):\n",
    "    print(str(idx)+ ' | '+ (50*'='))\n",
    "    df['tmdb_id'] =  np.vectorize(find_movie_tmdb)(df.index.values, df['indication_year'])"
   ]
  },
  {
   "cell_type": "markdown",
   "metadata": {
    "collapsed": true
   },
   "source": [
    "Concatenando dataframe e salvando infomações em **movies_TMDB_PI1.csv**"
   ]
  },
  {
   "cell_type": "code",
   "execution_count": 7,
   "metadata": {
    "collapsed": true
   },
   "outputs": [],
   "source": [
    "movies_pt1 = pd.concat(tmp_movies)\n",
    "movies_pt1.to_csv('./database/movies_TMDB_PI1.csv')"
   ]
  },
  {
   "cell_type": "code",
   "execution_count": 8,
   "metadata": {},
   "outputs": [
    {
     "name": "stdout",
     "output_type": "stream",
     "text": [
      "Todos os filmes foram buscados no TMDB!\n"
     ]
    }
   ],
   "source": [
    "if len(movies_pt1) == len(movies):\n",
    "    print(\"Todos os filmes foram buscados no TMDB!\")\n",
    "    \n",
    "elif len(movies_pt1) > len(movies):\n",
    "    print(\"Erro! Existem mais \" +len(movies_pt1) - len(movies)+\" filmes procurados que o existente no movies.csv\")\n",
    "else:\n",
    "    print(\"Erro! Existem menos \" +len(movies) - len(movies_pt1)+\" filmes procurados que o existente no movies.csv\")"
   ]
  },
  {
   "cell_type": "code",
   "execution_count": 9,
   "metadata": {},
   "outputs": [
    {
     "ename": "TypeError",
     "evalue": "Could not operate 'Existem ' with block values must be str, not float",
     "output_type": "error",
     "traceback": [
      "\u001b[0;31m---------------------------------------------------------------------------\u001b[0m",
      "\u001b[0;31mTypeError\u001b[0m                                 Traceback (most recent call last)",
      "\u001b[0;32m/Library/Frameworks/Python.framework/Versions/3.6/lib/python3.6/site-packages/pandas/core/internals.py\u001b[0m in \u001b[0;36meval\u001b[0;34m(self, func, other, errors, try_cast, mgr)\u001b[0m\n\u001b[1;32m   1317\u001b[0m             values, values_mask, other, other_mask = self._try_coerce_args(\n\u001b[0;32m-> 1318\u001b[0;31m                 transf(values), other)\n\u001b[0m\u001b[1;32m   1319\u001b[0m         \u001b[0;32mexcept\u001b[0m \u001b[0mTypeError\u001b[0m\u001b[0;34m:\u001b[0m\u001b[0;34m\u001b[0m\u001b[0m\n",
      "\u001b[0;32m/Library/Frameworks/Python.framework/Versions/3.6/lib/python3.6/site-packages/pandas/core/internals.py\u001b[0m in \u001b[0;36m_try_coerce_args\u001b[0;34m(self, values, other)\u001b[0m\n\u001b[1;32m    700\u001b[0m                 \u001b[0mtype\u001b[0m\u001b[0;34m(\u001b[0m\u001b[0mother\u001b[0m\u001b[0;34m)\u001b[0m\u001b[0;34m.\u001b[0m\u001b[0m__name__\u001b[0m\u001b[0;34m,\u001b[0m\u001b[0;34m\u001b[0m\u001b[0m\n\u001b[0;32m--> 701\u001b[0;31m                 type(self).__name__.lower().replace('Block', '')))\n\u001b[0m\u001b[1;32m    702\u001b[0m \u001b[0;34m\u001b[0m\u001b[0m\n",
      "\u001b[0;31mTypeError\u001b[0m: cannot convert str to an floatblock",
      "\nDuring handling of the above exception, another exception occurred:\n",
      "\u001b[0;31mTypeError\u001b[0m                                 Traceback (most recent call last)",
      "\u001b[0;32m/Library/Frameworks/Python.framework/Versions/3.6/lib/python3.6/site-packages/pandas/core/ops.py\u001b[0m in \u001b[0;36mna_op\u001b[0;34m(x, y)\u001b[0m\n\u001b[1;32m   1201\u001b[0m         \u001b[0;32mtry\u001b[0m\u001b[0;34m:\u001b[0m\u001b[0;34m\u001b[0m\u001b[0m\n\u001b[0;32m-> 1202\u001b[0;31m             \u001b[0mresult\u001b[0m \u001b[0;34m=\u001b[0m \u001b[0mexpressions\u001b[0m\u001b[0;34m.\u001b[0m\u001b[0mevaluate\u001b[0m\u001b[0;34m(\u001b[0m\u001b[0mop\u001b[0m\u001b[0;34m,\u001b[0m \u001b[0mstr_rep\u001b[0m\u001b[0;34m,\u001b[0m \u001b[0mx\u001b[0m\u001b[0;34m,\u001b[0m \u001b[0my\u001b[0m\u001b[0;34m,\u001b[0m \u001b[0;34m**\u001b[0m\u001b[0meval_kwargs\u001b[0m\u001b[0;34m)\u001b[0m\u001b[0;34m\u001b[0m\u001b[0m\n\u001b[0m\u001b[1;32m   1203\u001b[0m         \u001b[0;32mexcept\u001b[0m \u001b[0mTypeError\u001b[0m\u001b[0;34m:\u001b[0m\u001b[0;34m\u001b[0m\u001b[0m\n",
      "\u001b[0;32m/Library/Frameworks/Python.framework/Versions/3.6/lib/python3.6/site-packages/pandas/core/computation/expressions.py\u001b[0m in \u001b[0;36mevaluate\u001b[0;34m(op, op_str, a, b, use_numexpr, **eval_kwargs)\u001b[0m\n\u001b[1;32m    203\u001b[0m     \u001b[0;32mif\u001b[0m \u001b[0muse_numexpr\u001b[0m\u001b[0;34m:\u001b[0m\u001b[0;34m\u001b[0m\u001b[0m\n\u001b[0;32m--> 204\u001b[0;31m         \u001b[0;32mreturn\u001b[0m \u001b[0m_evaluate\u001b[0m\u001b[0;34m(\u001b[0m\u001b[0mop\u001b[0m\u001b[0;34m,\u001b[0m \u001b[0mop_str\u001b[0m\u001b[0;34m,\u001b[0m \u001b[0ma\u001b[0m\u001b[0;34m,\u001b[0m \u001b[0mb\u001b[0m\u001b[0;34m,\u001b[0m \u001b[0;34m**\u001b[0m\u001b[0meval_kwargs\u001b[0m\u001b[0;34m)\u001b[0m\u001b[0;34m\u001b[0m\u001b[0m\n\u001b[0m\u001b[1;32m    205\u001b[0m     \u001b[0;32mreturn\u001b[0m \u001b[0m_evaluate_standard\u001b[0m\u001b[0;34m(\u001b[0m\u001b[0mop\u001b[0m\u001b[0;34m,\u001b[0m \u001b[0mop_str\u001b[0m\u001b[0;34m,\u001b[0m \u001b[0ma\u001b[0m\u001b[0;34m,\u001b[0m \u001b[0mb\u001b[0m\u001b[0;34m)\u001b[0m\u001b[0;34m\u001b[0m\u001b[0m\n",
      "\u001b[0;32m/Library/Frameworks/Python.framework/Versions/3.6/lib/python3.6/site-packages/pandas/core/computation/expressions.py\u001b[0m in \u001b[0;36m_evaluate_standard\u001b[0;34m(op, op_str, a, b, **eval_kwargs)\u001b[0m\n\u001b[1;32m     63\u001b[0m     \u001b[0;32mwith\u001b[0m \u001b[0mnp\u001b[0m\u001b[0;34m.\u001b[0m\u001b[0merrstate\u001b[0m\u001b[0;34m(\u001b[0m\u001b[0mall\u001b[0m\u001b[0;34m=\u001b[0m\u001b[0;34m'ignore'\u001b[0m\u001b[0;34m)\u001b[0m\u001b[0;34m:\u001b[0m\u001b[0;34m\u001b[0m\u001b[0m\n\u001b[0;32m---> 64\u001b[0;31m         \u001b[0;32mreturn\u001b[0m \u001b[0mop\u001b[0m\u001b[0;34m(\u001b[0m\u001b[0ma\u001b[0m\u001b[0;34m,\u001b[0m \u001b[0mb\u001b[0m\u001b[0;34m)\u001b[0m\u001b[0;34m\u001b[0m\u001b[0m\n\u001b[0m\u001b[1;32m     65\u001b[0m \u001b[0;34m\u001b[0m\u001b[0m\n",
      "\u001b[0;32m/Library/Frameworks/Python.framework/Versions/3.6/lib/python3.6/site-packages/pandas/core/ops.py\u001b[0m in \u001b[0;36m<lambda>\u001b[0;34m(x, y)\u001b[0m\n\u001b[1;32m     77\u001b[0m                          default_axis=default_axis),\n\u001b[0;32m---> 78\u001b[0;31m         radd=arith_method(lambda x, y: y + x, names('radd'), op('+'),\n\u001b[0m\u001b[1;32m     79\u001b[0m                           default_axis=default_axis),\n",
      "\u001b[0;31mTypeError\u001b[0m: must be str, not float",
      "\nDuring handling of the above exception, another exception occurred:\n",
      "\u001b[0;31mTypeError\u001b[0m                                 Traceback (most recent call last)",
      "\u001b[0;32m/Library/Frameworks/Python.framework/Versions/3.6/lib/python3.6/site-packages/pandas/core/internals.py\u001b[0m in \u001b[0;36meval\u001b[0;34m(self, func, other, errors, try_cast, mgr)\u001b[0m\n\u001b[1;32m   1376\u001b[0m             \u001b[0;32mwith\u001b[0m \u001b[0mnp\u001b[0m\u001b[0;34m.\u001b[0m\u001b[0merrstate\u001b[0m\u001b[0;34m(\u001b[0m\u001b[0mall\u001b[0m\u001b[0;34m=\u001b[0m\u001b[0;34m'ignore'\u001b[0m\u001b[0;34m)\u001b[0m\u001b[0;34m:\u001b[0m\u001b[0;34m\u001b[0m\u001b[0m\n\u001b[0;32m-> 1377\u001b[0;31m                 \u001b[0mresult\u001b[0m \u001b[0;34m=\u001b[0m \u001b[0mget_result\u001b[0m\u001b[0;34m(\u001b[0m\u001b[0mother\u001b[0m\u001b[0;34m)\u001b[0m\u001b[0;34m\u001b[0m\u001b[0m\n\u001b[0m\u001b[1;32m   1378\u001b[0m \u001b[0;34m\u001b[0m\u001b[0m\n",
      "\u001b[0;32m/Library/Frameworks/Python.framework/Versions/3.6/lib/python3.6/site-packages/pandas/core/internals.py\u001b[0m in \u001b[0;36mget_result\u001b[0;34m(other)\u001b[0m\n\u001b[1;32m   1345\u001b[0m             \u001b[0;32melse\u001b[0m\u001b[0;34m:\u001b[0m\u001b[0;34m\u001b[0m\u001b[0m\n\u001b[0;32m-> 1346\u001b[0;31m                 \u001b[0mresult\u001b[0m \u001b[0;34m=\u001b[0m \u001b[0mfunc\u001b[0m\u001b[0;34m(\u001b[0m\u001b[0mvalues\u001b[0m\u001b[0;34m,\u001b[0m \u001b[0mother\u001b[0m\u001b[0;34m)\u001b[0m\u001b[0;34m\u001b[0m\u001b[0m\n\u001b[0m\u001b[1;32m   1347\u001b[0m \u001b[0;34m\u001b[0m\u001b[0m\n",
      "\u001b[0;32m/Library/Frameworks/Python.framework/Versions/3.6/lib/python3.6/site-packages/pandas/core/ops.py\u001b[0m in \u001b[0;36mna_op\u001b[0;34m(x, y)\u001b[0m\n\u001b[1;32m   1227\u001b[0m                     \u001b[0;32mwith\u001b[0m \u001b[0mnp\u001b[0m\u001b[0;34m.\u001b[0m\u001b[0merrstate\u001b[0m\u001b[0;34m(\u001b[0m\u001b[0mall\u001b[0m\u001b[0;34m=\u001b[0m\u001b[0;34m'ignore'\u001b[0m\u001b[0;34m)\u001b[0m\u001b[0;34m:\u001b[0m\u001b[0;34m\u001b[0m\u001b[0m\n\u001b[0;32m-> 1228\u001b[0;31m                         \u001b[0mresult\u001b[0m\u001b[0;34m[\u001b[0m\u001b[0mmask\u001b[0m\u001b[0;34m]\u001b[0m \u001b[0;34m=\u001b[0m \u001b[0mop\u001b[0m\u001b[0;34m(\u001b[0m\u001b[0mxrav\u001b[0m\u001b[0;34m,\u001b[0m \u001b[0my\u001b[0m\u001b[0;34m)\u001b[0m\u001b[0;34m\u001b[0m\u001b[0m\n\u001b[0m\u001b[1;32m   1229\u001b[0m             \u001b[0;32melse\u001b[0m\u001b[0;34m:\u001b[0m\u001b[0;34m\u001b[0m\u001b[0m\n",
      "\u001b[0;32m/Library/Frameworks/Python.framework/Versions/3.6/lib/python3.6/site-packages/pandas/core/ops.py\u001b[0m in \u001b[0;36m<lambda>\u001b[0;34m(x, y)\u001b[0m\n\u001b[1;32m     77\u001b[0m                          default_axis=default_axis),\n\u001b[0;32m---> 78\u001b[0;31m         radd=arith_method(lambda x, y: y + x, names('radd'), op('+'),\n\u001b[0m\u001b[1;32m     79\u001b[0m                           default_axis=default_axis),\n",
      "\u001b[0;31mTypeError\u001b[0m: must be str, not float",
      "\nDuring handling of the above exception, another exception occurred:\n",
      "\u001b[0;31mTypeError\u001b[0m                                 Traceback (most recent call last)",
      "\u001b[0;32m<ipython-input-9-5fe18433c806>\u001b[0m in \u001b[0;36m<module>\u001b[0;34m()\u001b[0m\n\u001b[1;32m      1\u001b[0m \u001b[0mmoviesdvs_not_tmdb\u001b[0m\u001b[0;34m=\u001b[0m \u001b[0mmovies_pt1\u001b[0m\u001b[0;34m.\u001b[0m\u001b[0mloc\u001b[0m\u001b[0;34m[\u001b[0m\u001b[0mmovies_pt1\u001b[0m\u001b[0;34m[\u001b[0m\u001b[0;34m'tmdb_id'\u001b[0m\u001b[0;34m]\u001b[0m \u001b[0;34m>=\u001b[0m \u001b[0;36m1\u001b[0m\u001b[0;34m]\u001b[0m\u001b[0;34m\u001b[0m\u001b[0m\n\u001b[1;32m      2\u001b[0m \u001b[0;34m\u001b[0m\u001b[0m\n\u001b[0;32m----> 3\u001b[0;31m \u001b[0mlen\u001b[0m\u001b[0;34m(\u001b[0m\u001b[0;34m\"Existem \"\u001b[0m\u001b[0;34m+\u001b[0m\u001b[0mmoviesdvs_not_tmdb\u001b[0m\u001b[0;34m+\u001b[0m\u001b[0;34m\" filmes que não foram encontrados pelo TMDB\"\u001b[0m\u001b[0;34m)\u001b[0m\u001b[0;34m\u001b[0m\u001b[0m\n\u001b[0m",
      "\u001b[0;32m/Library/Frameworks/Python.framework/Versions/3.6/lib/python3.6/site-packages/pandas/core/ops.py\u001b[0m in \u001b[0;36mf\u001b[0;34m(self, other, axis, level, fill_value)\u001b[0m\n\u001b[1;32m   1265\u001b[0m                 \u001b[0mself\u001b[0m \u001b[0;34m=\u001b[0m \u001b[0mself\u001b[0m\u001b[0;34m.\u001b[0m\u001b[0mfillna\u001b[0m\u001b[0;34m(\u001b[0m\u001b[0mfill_value\u001b[0m\u001b[0;34m)\u001b[0m\u001b[0;34m\u001b[0m\u001b[0m\n\u001b[1;32m   1266\u001b[0m \u001b[0;34m\u001b[0m\u001b[0m\n\u001b[0;32m-> 1267\u001b[0;31m             \u001b[0;32mreturn\u001b[0m \u001b[0mself\u001b[0m\u001b[0;34m.\u001b[0m\u001b[0m_combine_const\u001b[0m\u001b[0;34m(\u001b[0m\u001b[0mother\u001b[0m\u001b[0;34m,\u001b[0m \u001b[0mna_op\u001b[0m\u001b[0;34m)\u001b[0m\u001b[0;34m\u001b[0m\u001b[0m\n\u001b[0m\u001b[1;32m   1268\u001b[0m \u001b[0;34m\u001b[0m\u001b[0m\n\u001b[1;32m   1269\u001b[0m     \u001b[0mf\u001b[0m\u001b[0;34m.\u001b[0m\u001b[0m__name__\u001b[0m \u001b[0;34m=\u001b[0m \u001b[0mname\u001b[0m\u001b[0;34m\u001b[0m\u001b[0m\n",
      "\u001b[0;32m/Library/Frameworks/Python.framework/Versions/3.6/lib/python3.6/site-packages/pandas/core/frame.py\u001b[0m in \u001b[0;36m_combine_const\u001b[0;34m(self, other, func, errors, try_cast)\u001b[0m\n\u001b[1;32m   3985\u001b[0m         new_data = self._data.eval(func=func, other=other,\n\u001b[1;32m   3986\u001b[0m                                    \u001b[0merrors\u001b[0m\u001b[0;34m=\u001b[0m\u001b[0merrors\u001b[0m\u001b[0;34m,\u001b[0m\u001b[0;34m\u001b[0m\u001b[0m\n\u001b[0;32m-> 3987\u001b[0;31m                                    try_cast=try_cast)\n\u001b[0m\u001b[1;32m   3988\u001b[0m         \u001b[0;32mreturn\u001b[0m \u001b[0mself\u001b[0m\u001b[0;34m.\u001b[0m\u001b[0m_constructor\u001b[0m\u001b[0;34m(\u001b[0m\u001b[0mnew_data\u001b[0m\u001b[0;34m)\u001b[0m\u001b[0;34m\u001b[0m\u001b[0m\n\u001b[1;32m   3989\u001b[0m \u001b[0;34m\u001b[0m\u001b[0m\n",
      "\u001b[0;32m/Library/Frameworks/Python.framework/Versions/3.6/lib/python3.6/site-packages/pandas/core/internals.py\u001b[0m in \u001b[0;36meval\u001b[0;34m(self, **kwargs)\u001b[0m\n\u001b[1;32m   3433\u001b[0m \u001b[0;34m\u001b[0m\u001b[0m\n\u001b[1;32m   3434\u001b[0m     \u001b[0;32mdef\u001b[0m \u001b[0meval\u001b[0m\u001b[0;34m(\u001b[0m\u001b[0mself\u001b[0m\u001b[0;34m,\u001b[0m \u001b[0;34m**\u001b[0m\u001b[0mkwargs\u001b[0m\u001b[0;34m)\u001b[0m\u001b[0;34m:\u001b[0m\u001b[0;34m\u001b[0m\u001b[0m\n\u001b[0;32m-> 3435\u001b[0;31m         \u001b[0;32mreturn\u001b[0m \u001b[0mself\u001b[0m\u001b[0;34m.\u001b[0m\u001b[0mapply\u001b[0m\u001b[0;34m(\u001b[0m\u001b[0;34m'eval'\u001b[0m\u001b[0;34m,\u001b[0m \u001b[0;34m**\u001b[0m\u001b[0mkwargs\u001b[0m\u001b[0;34m)\u001b[0m\u001b[0;34m\u001b[0m\u001b[0m\n\u001b[0m\u001b[1;32m   3436\u001b[0m \u001b[0;34m\u001b[0m\u001b[0m\n\u001b[1;32m   3437\u001b[0m     \u001b[0;32mdef\u001b[0m \u001b[0mquantile\u001b[0m\u001b[0;34m(\u001b[0m\u001b[0mself\u001b[0m\u001b[0;34m,\u001b[0m \u001b[0;34m**\u001b[0m\u001b[0mkwargs\u001b[0m\u001b[0;34m)\u001b[0m\u001b[0;34m:\u001b[0m\u001b[0;34m\u001b[0m\u001b[0m\n",
      "\u001b[0;32m/Library/Frameworks/Python.framework/Versions/3.6/lib/python3.6/site-packages/pandas/core/internals.py\u001b[0m in \u001b[0;36mapply\u001b[0;34m(self, f, axes, filter, do_integrity_check, consolidate, **kwargs)\u001b[0m\n\u001b[1;32m   3327\u001b[0m \u001b[0;34m\u001b[0m\u001b[0m\n\u001b[1;32m   3328\u001b[0m             \u001b[0mkwargs\u001b[0m\u001b[0;34m[\u001b[0m\u001b[0;34m'mgr'\u001b[0m\u001b[0;34m]\u001b[0m \u001b[0;34m=\u001b[0m \u001b[0mself\u001b[0m\u001b[0;34m\u001b[0m\u001b[0m\n\u001b[0;32m-> 3329\u001b[0;31m             \u001b[0mapplied\u001b[0m \u001b[0;34m=\u001b[0m \u001b[0mgetattr\u001b[0m\u001b[0;34m(\u001b[0m\u001b[0mb\u001b[0m\u001b[0;34m,\u001b[0m \u001b[0mf\u001b[0m\u001b[0;34m)\u001b[0m\u001b[0;34m(\u001b[0m\u001b[0;34m**\u001b[0m\u001b[0mkwargs\u001b[0m\u001b[0;34m)\u001b[0m\u001b[0;34m\u001b[0m\u001b[0m\n\u001b[0m\u001b[1;32m   3330\u001b[0m             \u001b[0mresult_blocks\u001b[0m \u001b[0;34m=\u001b[0m \u001b[0m_extend_blocks\u001b[0m\u001b[0;34m(\u001b[0m\u001b[0mapplied\u001b[0m\u001b[0;34m,\u001b[0m \u001b[0mresult_blocks\u001b[0m\u001b[0;34m)\u001b[0m\u001b[0;34m\u001b[0m\u001b[0m\n\u001b[1;32m   3331\u001b[0m \u001b[0;34m\u001b[0m\u001b[0m\n",
      "\u001b[0;32m/Library/Frameworks/Python.framework/Versions/3.6/lib/python3.6/site-packages/pandas/core/internals.py\u001b[0m in \u001b[0;36meval\u001b[0;34m(self, func, other, errors, try_cast, mgr)\u001b[0m\n\u001b[1;32m   1321\u001b[0m             return block.eval(func, orig_other,\n\u001b[1;32m   1322\u001b[0m                               \u001b[0merrors\u001b[0m\u001b[0;34m=\u001b[0m\u001b[0merrors\u001b[0m\u001b[0;34m,\u001b[0m\u001b[0;34m\u001b[0m\u001b[0m\n\u001b[0;32m-> 1323\u001b[0;31m                               try_cast=try_cast, mgr=mgr)\n\u001b[0m\u001b[1;32m   1324\u001b[0m \u001b[0;34m\u001b[0m\u001b[0m\n\u001b[1;32m   1325\u001b[0m         \u001b[0;31m# get the result, may need to transpose the other\u001b[0m\u001b[0;34m\u001b[0m\u001b[0;34m\u001b[0m\u001b[0m\n",
      "\u001b[0;32m/Library/Frameworks/Python.framework/Versions/3.6/lib/python3.6/site-packages/pandas/core/internals.py\u001b[0m in \u001b[0;36meval\u001b[0;34m(self, func, other, errors, try_cast, mgr)\u001b[0m\n\u001b[1;32m   1382\u001b[0m             \u001b[0;32mraise\u001b[0m\u001b[0;34m\u001b[0m\u001b[0m\n\u001b[1;32m   1383\u001b[0m         \u001b[0;32mexcept\u001b[0m \u001b[0mException\u001b[0m \u001b[0;32mas\u001b[0m \u001b[0mdetail\u001b[0m\u001b[0;34m:\u001b[0m\u001b[0;34m\u001b[0m\u001b[0m\n\u001b[0;32m-> 1384\u001b[0;31m             \u001b[0mresult\u001b[0m \u001b[0;34m=\u001b[0m \u001b[0mhandle_error\u001b[0m\u001b[0;34m(\u001b[0m\u001b[0;34m)\u001b[0m\u001b[0;34m\u001b[0m\u001b[0m\n\u001b[0m\u001b[1;32m   1385\u001b[0m \u001b[0;34m\u001b[0m\u001b[0m\n\u001b[1;32m   1386\u001b[0m         \u001b[0;31m# technically a broadcast error in numpy can 'work' by returning a\u001b[0m\u001b[0;34m\u001b[0m\u001b[0;34m\u001b[0m\u001b[0m\n",
      "\u001b[0;32m/Library/Frameworks/Python.framework/Versions/3.6/lib/python3.6/site-packages/pandas/core/internals.py\u001b[0m in \u001b[0;36mhandle_error\u001b[0;34m()\u001b[0m\n\u001b[1;32m   1365\u001b[0m                 \u001b[0;31m# The 'detail' variable is defined in outer scope.\u001b[0m\u001b[0;34m\u001b[0m\u001b[0;34m\u001b[0m\u001b[0m\n\u001b[1;32m   1366\u001b[0m                 raise TypeError('Could not operate %s with block values %s' %\n\u001b[0;32m-> 1367\u001b[0;31m                                 (repr(other), str(detail)))  # noqa\n\u001b[0m\u001b[1;32m   1368\u001b[0m             \u001b[0;32melse\u001b[0m\u001b[0;34m:\u001b[0m\u001b[0;34m\u001b[0m\u001b[0m\n\u001b[1;32m   1369\u001b[0m                 \u001b[0;31m# return the values\u001b[0m\u001b[0;34m\u001b[0m\u001b[0;34m\u001b[0m\u001b[0m\n",
      "\u001b[0;31mTypeError\u001b[0m: Could not operate 'Existem ' with block values must be str, not float"
     ]
    }
   ],
   "source": [
    "moviesdvs_not_tmdb= movies_pt1.loc[movies_pt1['tmdb_id'] >= 1]\n",
    "\n",
    "len(\"Existem \"+len(moviesdvs_not_tmdb+\" filmes que não foram encontrados pelo TMDB\")"
   ]
  },
  {
   "cell_type": "code",
   "execution_count": null,
   "metadata": {
    "collapsed": true
   },
   "outputs": [],
   "source": [
    "moviesdvs_not_tmdb.head()"
   ]
  },
  {
   "cell_type": "code",
   "execution_count": null,
   "metadata": {
    "collapsed": true
   },
   "outputs": [],
   "source": [
    "# def budg_imdb_rev(mvid):\n",
    "#     if mvid and mvid != 0:\n",
    "#         url = \"https://api.themoviedb.org/3/movie/\"+str(mvid)+\"?api_key=\"+api_key+\"&language=en-US\"\n",
    "\n",
    "#         payload = \"{}\"\n",
    "\n",
    "#         response = requests.request(\"GET\", url, data=payload)\n",
    "#         data = json.loads(response.text)\n",
    "#         genres = []\n",
    "#         production_countries=[]\n",
    "\n",
    "#         if response.status_code == 200:\n",
    "#             if data['genres'] and len(data['genres']) > 0:\n",
    "#                 genres = [x['name'] for x in data['genres']]\n",
    "            \n",
    "#             if data['production_countries'] and len(data['production_countries']) > 0:\n",
    "#                 production_countries = [x['iso_3166_1'] for x in data['production_countries']]\n",
    "            \n",
    "#             print(data['title'])\n",
    "#             return  np.array([data['imdb_id'], data['budget'], data['revenue'], genres, production_countries], dtype=object)\n",
    "#         print(False)\n",
    "#         return  np.array([False, False, False, False, False], dtype=object)\n",
    "    \n",
    "#     print(False)\n",
    "#     return  np.array([False, False, False, False, False], dtype=object)\n"
   ]
  },
  {
   "cell_type": "code",
   "execution_count": null,
   "metadata": {
    "collapsed": true,
    "scrolled": true
   },
   "outputs": [],
   "source": [
    "# moviesdv=[]\n",
    "# for x in range(1,159):\n",
    "#     moviesdv.append(moviesdvs.iloc[int(len(moviesdvs.index.values)/159)*(x-1):int(len(moviesdvs.index.values)/159)*x,:].copy())\n"
   ]
  },
  {
   "cell_type": "code",
   "execution_count": null,
   "metadata": {
    "collapsed": true
   },
   "outputs": [],
   "source": [
    "# for idx, df in enumerate(moviesdv):\n",
    "#     now = datetime.datetime.now()\n",
    "#     print(str(now.hour)+':'+str(now.minute)+':'+str(now.second))\n",
    "#     print(str(idx)+' | ===================================================================================')\n",
    "#     #df['tmdb_id'] =  np.vectorize(find_movie)(df.index.values, df['indication_year'])\n",
    "#     df[['imdb_id','budget','revenue', 'genres', 'production_countries']] = pd.DataFrame(list(df['tmdb_id'].apply(budg_imdb_rev)), index=df.index)\n"
   ]
  },
  {
   "cell_type": "code",
   "execution_count": null,
   "metadata": {
    "collapsed": true
   },
   "outputs": [],
   "source": [
    "# moviesdv = pd.concat(moviesdv)\n",
    "\n",
    "# moviesdv.head()\n",
    "\n",
    "# moviesdv.to_csv('./database/movies_TMDB_PI2.csv')\n",
    "\n",
    "#movies.to_csv('./database/movies_TMDB_PI2.csv')"
   ]
  },
  {
   "cell_type": "code",
   "execution_count": null,
   "metadata": {
    "collapsed": true
   },
   "outputs": [],
   "source": [
    "#https://developers.themoviedb.org/3/movies/get-movie-details\n",
    "#https://github.com/richardasaurus/imdb-pie#get_title_credits\n",
    "#https://market.mashape.com/marcalencc/metacritic#\n",
    "# movies.head()"
   ]
  },
  {
   "cell_type": "code",
   "execution_count": null,
   "metadata": {
    "collapsed": true
   },
   "outputs": [],
   "source": []
  },
  {
   "cell_type": "code",
   "execution_count": null,
   "metadata": {
    "collapsed": true
   },
   "outputs": [],
   "source": []
  }
 ],
 "metadata": {
  "kernelspec": {
   "display_name": "Python 3",
   "language": "python",
   "name": "python3"
  },
  "language_info": {
   "codemirror_mode": {
    "name": "ipython",
    "version": 3
   },
   "file_extension": ".py",
   "mimetype": "text/x-python",
   "name": "python",
   "nbconvert_exporter": "python",
   "pygments_lexer": "ipython3",
   "version": "3.6.4"
  }
 },
 "nbformat": 4,
 "nbformat_minor": 2
}
